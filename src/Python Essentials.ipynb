{
 "cells": [
  {
   "cell_type": "markdown",
   "metadata": {},
   "source": [
    "### Function"
   ]
  },
  {
   "cell_type": "code",
   "execution_count": null,
   "metadata": {},
   "outputs": [],
   "source": [
    "def get_list_len(your_list):\n",
    "    # \"list comprehension\" - python docs\n",
    "    list_starts_with_a = [item for item in your_list if item.startswith(\"a\")]\n",
    "    print(list_starts_with_a)\n",
    "\n",
    "#     list_starts_with_a = 0\n",
    "#     for item in your_list:\n",
    "#         if item.startswith(\"a\"):\n",
    "#             list_starts_with_a = list_starts_with_a + 1\n",
    "            \n",
    "    return len(list_starts_with_a)\n",
    "\n",
    "my_list = [\"aeger\", \"baser\", \"aerec\", \"dhaer\", \"aegserz\", \"dwegx\"]\n",
    "get_list_len(my_list)"
   ]
  },
  {
   "cell_type": "code",
   "execution_count": null,
   "metadata": {},
   "outputs": [],
   "source": [
    "sorted_list = list(range(30))\n",
    "sorted_list"
   ]
  },
  {
   "cell_type": "markdown",
   "metadata": {},
   "source": [
    "### Write a program to check if a number is in the sorted list"
   ]
  },
  {
   "cell_type": "code",
   "execution_count": null,
   "metadata": {},
   "outputs": [],
   "source": [
    "test_data = [1, 2, 3, 4, 5, 6, 7, 8, 9, 10, 11]\n",
    "2"
   ]
  },
  {
   "cell_type": "code",
   "execution_count": null,
   "metadata": {},
   "outputs": [],
   "source": [
    "data = list(range(100000000))\n",
    "print(len(data))"
   ]
  },
  {
   "cell_type": "code",
   "execution_count": null,
   "metadata": {},
   "outputs": [],
   "source": [
    "# brute force solution\n",
    "def check_numbers_existence(lst, num):\n",
    "    for item in lst:\n",
    "        if item == num:\n",
    "            return True\n",
    "    \n",
    "    return False"
   ]
  },
  {
   "cell_type": "code",
   "execution_count": null,
   "metadata": {},
   "outputs": [],
   "source": [
    "%%timeit\n",
    "# Python 3 program for recursive binary search.\n",
    "# Modifications needed for the older Python 2 are found in comments.\n",
    "\n",
    "# Returns index of x in arr if present, else -1\n",
    "def binary_search(arr, low, high, x):\n",
    "\n",
    "\t# Check base case\n",
    "\tif high >= low:\n",
    "\n",
    "\t\tmid = (high + low) // 2\n",
    "\n",
    "\t\t# If element is present at the middle itself\n",
    "\t\tif arr[mid] == x:\n",
    "\t\t\treturn mid\n",
    "\n",
    "\t\t# If element is smaller than mid, then it can only\n",
    "\t\t# be present in left subarray\n",
    "\t\telif arr[mid] > x:\n",
    "\t\t\treturn binary_search(arr, low, mid - 1, x)\n",
    "\n",
    "\t\t# Else the element can only be present in right subarray\n",
    "\t\telse:\n",
    "\t\t\treturn binary_search(arr, mid + 1, high, x)\n",
    "\n",
    "\telse:\n",
    "\t\t# Element is not present in the array\n",
    "\t\treturn -1\n",
    "\n",
    "# Test array\n",
    "arr = [ 2, 3, 4, 10, 40 ]\n",
    "x = 44\n",
    "\n",
    "# Function call\n",
    "result = binary_search(arr, 0, len(arr)-1, x)\n",
    "\n",
    "if result != -1:\n",
    "\tprint(\"Element is present at index\", str(result))\n",
    "else:\n",
    "\tprint(\"Element is not present in array\")"
   ]
  },
  {
   "cell_type": "code",
   "execution_count": null,
   "metadata": {},
   "outputs": [],
   "source": [
    "%%timeit  # \"magic function\" - python docs\n",
    "check_numbers_existence(data, 100000000)"
   ]
  },
  {
   "cell_type": "code",
   "execution_count": null,
   "metadata": {},
   "outputs": [],
   "source": []
  },
  {
   "cell_type": "code",
   "execution_count": null,
   "metadata": {},
   "outputs": [],
   "source": []
  }
 ],
 "metadata": {
  "kernelspec": {
   "display_name": "Python 3",
   "language": "python",
   "name": "python3"
  },
  "language_info": {
   "codemirror_mode": {
    "name": "ipython",
    "version": 3
   },
   "file_extension": ".py",
   "mimetype": "text/x-python",
   "name": "python",
   "nbconvert_exporter": "python",
   "pygments_lexer": "ipython3",
   "version": "3.8.5"
  }
 },
 "nbformat": 4,
 "nbformat_minor": 4
}
